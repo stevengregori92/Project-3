{
  "cells": [
    {
      "cell_type": "markdown",
      "metadata": {
        "id": "view-in-github",
        "colab_type": "text"
      },
      "source": [
        "<a href=\"https://colab.research.google.com/github/stevengregori92/Project-3/blob/main/Project_Acquire_and_Prepare_Data_from_Web.ipynb\" target=\"_parent\"><img src=\"https://colab.research.google.com/assets/colab-badge.svg\" alt=\"Open In Colab\"/></a>"
      ]
    },
    {
      "cell_type": "markdown",
      "id": "39c877c9",
      "metadata": {
        "id": "39c877c9"
      },
      "source": [
        "# Project - Acquire and Prepare Data from Web"
      ]
    },
    {
      "cell_type": "markdown",
      "id": "b78e72ef",
      "metadata": {
        "id": "b78e72ef"
      },
      "source": [
        "## Goal of Project\n",
        "- This project will focus on Step 1 and 2 (**Acquire** and **Prepare**)\n",
        "- We will read raw data that needs Data Wrangling to prepare\n",
        "- The process we follow demonstrates how a Data Scientist works"
      ]
    },
    {
      "cell_type": "markdown",
      "id": "77f362c4",
      "metadata": {
        "id": "77f362c4"
      },
      "source": [
        "## Step 1: Acquire\n",
        "- Explore problem\n",
        "- Identify data\n",
        "- Import data"
      ]
    },
    {
      "cell_type": "markdown",
      "id": "6f8cbbcb",
      "metadata": {
        "id": "6f8cbbcb"
      },
      "source": [
        "### Step 1.a: Import libraries\n",
        "- Execute the cell below (SHIFT + ENTER)"
      ]
    },
    {
      "cell_type": "code",
      "execution_count": null,
      "id": "a3625ad6",
      "metadata": {
        "id": "a3625ad6"
      },
      "outputs": [],
      "source": [
        "import pandas as pd\n",
        "import matplotlib.pyplot as plt\n",
        "%matplotlib inline"
      ]
    },
    {
      "cell_type": "markdown",
      "id": "b5f9a799",
      "metadata": {
        "id": "b5f9a799"
      },
      "source": [
        "### Step 1.b: Retrieve/Read the data\n",
        "- There are two options to get data\n",
        "#### Option 1: Directly from wikipedia\n",
        "- Assign variable ```url = \"https://en.wikipedia.org/wiki/Wikipedia:Fundraising_statistics\"```\n",
        "- Retrieve the data ```tables = pd.read_html(url)```\n",
        "- Assign the first DataFrame to a variable\n",
        "    - HINT: ```tables``` is a list DataFrame containing all the data\n",
        "\n",
        "#### Option 2: From csv file (if option 1 fails)\n",
        "- Use ```pd.read_csv()``` to read the file `files/fundraising.csv`\n",
        "- NOTE: Remember to assign the result to a variable (e.g., ```data```)\n",
        "- Apply ```.head()``` on the data to see all is as expected"
      ]
    },
    {
      "cell_type": "code",
      "execution_count": null,
      "id": "c7aa93d7",
      "metadata": {
        "colab": {
          "base_uri": "https://localhost:8080/",
          "height": 206
        },
        "id": "c7aa93d7",
        "outputId": "5209bccc-5213-4be6-eec5-815abe2dc236"
      },
      "outputs": [
        {
          "output_type": "execute_result",
          "data": {
            "text/plain": [
              "      Year Source        Revenue       Expenses    Asset rise   Total assets\n",
              "0  2021/22    PDF  $ 154,686,521  $ 145,970,915   $ 8,173,996  $ 239,351,532\n",
              "1  2020/21    PDF  $ 162,886,686  $ 111,839,819  $ 50,861,811  $ 231,177,536\n",
              "2  2019/20    PDF  $ 129,234,327  $ 112,489,397  $ 14,674,300  $ 180,315,725\n",
              "3  2018/19    PDF  $ 120,067,266   $ 91,414,010  $ 30,691,855  $ 165,641,425\n",
              "4  2017/18    PDF  $ 104,505,783   $ 81,442,265  $ 21,619,373  $ 134,949,570"
            ],
            "text/html": [
              "\n",
              "  <div id=\"df-b5c5509c-c649-42a9-b350-20b539404fe1\">\n",
              "    <div class=\"colab-df-container\">\n",
              "      <div>\n",
              "<style scoped>\n",
              "    .dataframe tbody tr th:only-of-type {\n",
              "        vertical-align: middle;\n",
              "    }\n",
              "\n",
              "    .dataframe tbody tr th {\n",
              "        vertical-align: top;\n",
              "    }\n",
              "\n",
              "    .dataframe thead th {\n",
              "        text-align: right;\n",
              "    }\n",
              "</style>\n",
              "<table border=\"1\" class=\"dataframe\">\n",
              "  <thead>\n",
              "    <tr style=\"text-align: right;\">\n",
              "      <th></th>\n",
              "      <th>Year</th>\n",
              "      <th>Source</th>\n",
              "      <th>Revenue</th>\n",
              "      <th>Expenses</th>\n",
              "      <th>Asset rise</th>\n",
              "      <th>Total assets</th>\n",
              "    </tr>\n",
              "  </thead>\n",
              "  <tbody>\n",
              "    <tr>\n",
              "      <th>0</th>\n",
              "      <td>2021/22</td>\n",
              "      <td>PDF</td>\n",
              "      <td>$ 154,686,521</td>\n",
              "      <td>$ 145,970,915</td>\n",
              "      <td>$ 8,173,996</td>\n",
              "      <td>$ 239,351,532</td>\n",
              "    </tr>\n",
              "    <tr>\n",
              "      <th>1</th>\n",
              "      <td>2020/21</td>\n",
              "      <td>PDF</td>\n",
              "      <td>$ 162,886,686</td>\n",
              "      <td>$ 111,839,819</td>\n",
              "      <td>$ 50,861,811</td>\n",
              "      <td>$ 231,177,536</td>\n",
              "    </tr>\n",
              "    <tr>\n",
              "      <th>2</th>\n",
              "      <td>2019/20</td>\n",
              "      <td>PDF</td>\n",
              "      <td>$ 129,234,327</td>\n",
              "      <td>$ 112,489,397</td>\n",
              "      <td>$ 14,674,300</td>\n",
              "      <td>$ 180,315,725</td>\n",
              "    </tr>\n",
              "    <tr>\n",
              "      <th>3</th>\n",
              "      <td>2018/19</td>\n",
              "      <td>PDF</td>\n",
              "      <td>$ 120,067,266</td>\n",
              "      <td>$ 91,414,010</td>\n",
              "      <td>$ 30,691,855</td>\n",
              "      <td>$ 165,641,425</td>\n",
              "    </tr>\n",
              "    <tr>\n",
              "      <th>4</th>\n",
              "      <td>2017/18</td>\n",
              "      <td>PDF</td>\n",
              "      <td>$ 104,505,783</td>\n",
              "      <td>$ 81,442,265</td>\n",
              "      <td>$ 21,619,373</td>\n",
              "      <td>$ 134,949,570</td>\n",
              "    </tr>\n",
              "  </tbody>\n",
              "</table>\n",
              "</div>\n",
              "      <button class=\"colab-df-convert\" onclick=\"convertToInteractive('df-b5c5509c-c649-42a9-b350-20b539404fe1')\"\n",
              "              title=\"Convert this dataframe to an interactive table.\"\n",
              "              style=\"display:none;\">\n",
              "        \n",
              "  <svg xmlns=\"http://www.w3.org/2000/svg\" height=\"24px\"viewBox=\"0 0 24 24\"\n",
              "       width=\"24px\">\n",
              "    <path d=\"M0 0h24v24H0V0z\" fill=\"none\"/>\n",
              "    <path d=\"M18.56 5.44l.94 2.06.94-2.06 2.06-.94-2.06-.94-.94-2.06-.94 2.06-2.06.94zm-11 1L8.5 8.5l.94-2.06 2.06-.94-2.06-.94L8.5 2.5l-.94 2.06-2.06.94zm10 10l.94 2.06.94-2.06 2.06-.94-2.06-.94-.94-2.06-.94 2.06-2.06.94z\"/><path d=\"M17.41 7.96l-1.37-1.37c-.4-.4-.92-.59-1.43-.59-.52 0-1.04.2-1.43.59L10.3 9.45l-7.72 7.72c-.78.78-.78 2.05 0 2.83L4 21.41c.39.39.9.59 1.41.59.51 0 1.02-.2 1.41-.59l7.78-7.78 2.81-2.81c.8-.78.8-2.07 0-2.86zM5.41 20L4 18.59l7.72-7.72 1.47 1.35L5.41 20z\"/>\n",
              "  </svg>\n",
              "      </button>\n",
              "      \n",
              "  <style>\n",
              "    .colab-df-container {\n",
              "      display:flex;\n",
              "      flex-wrap:wrap;\n",
              "      gap: 12px;\n",
              "    }\n",
              "\n",
              "    .colab-df-convert {\n",
              "      background-color: #E8F0FE;\n",
              "      border: none;\n",
              "      border-radius: 50%;\n",
              "      cursor: pointer;\n",
              "      display: none;\n",
              "      fill: #1967D2;\n",
              "      height: 32px;\n",
              "      padding: 0 0 0 0;\n",
              "      width: 32px;\n",
              "    }\n",
              "\n",
              "    .colab-df-convert:hover {\n",
              "      background-color: #E2EBFA;\n",
              "      box-shadow: 0px 1px 2px rgba(60, 64, 67, 0.3), 0px 1px 3px 1px rgba(60, 64, 67, 0.15);\n",
              "      fill: #174EA6;\n",
              "    }\n",
              "\n",
              "    [theme=dark] .colab-df-convert {\n",
              "      background-color: #3B4455;\n",
              "      fill: #D2E3FC;\n",
              "    }\n",
              "\n",
              "    [theme=dark] .colab-df-convert:hover {\n",
              "      background-color: #434B5C;\n",
              "      box-shadow: 0px 1px 3px 1px rgba(0, 0, 0, 0.15);\n",
              "      filter: drop-shadow(0px 1px 2px rgba(0, 0, 0, 0.3));\n",
              "      fill: #FFFFFF;\n",
              "    }\n",
              "  </style>\n",
              "\n",
              "      <script>\n",
              "        const buttonEl =\n",
              "          document.querySelector('#df-b5c5509c-c649-42a9-b350-20b539404fe1 button.colab-df-convert');\n",
              "        buttonEl.style.display =\n",
              "          google.colab.kernel.accessAllowed ? 'block' : 'none';\n",
              "\n",
              "        async function convertToInteractive(key) {\n",
              "          const element = document.querySelector('#df-b5c5509c-c649-42a9-b350-20b539404fe1');\n",
              "          const dataTable =\n",
              "            await google.colab.kernel.invokeFunction('convertToInteractive',\n",
              "                                                     [key], {});\n",
              "          if (!dataTable) return;\n",
              "\n",
              "          const docLinkHtml = 'Like what you see? Visit the ' +\n",
              "            '<a target=\"_blank\" href=https://colab.research.google.com/notebooks/data_table.ipynb>data table notebook</a>'\n",
              "            + ' to learn more about interactive tables.';\n",
              "          element.innerHTML = '';\n",
              "          dataTable['output_type'] = 'display_data';\n",
              "          await google.colab.output.renderOutput(dataTable, element);\n",
              "          const docLink = document.createElement('div');\n",
              "          docLink.innerHTML = docLinkHtml;\n",
              "          element.appendChild(docLink);\n",
              "        }\n",
              "      </script>\n",
              "    </div>\n",
              "  </div>\n",
              "  "
            ]
          },
          "metadata": {},
          "execution_count": 2
        }
      ],
      "source": [
        "url = \"https://en.wikipedia.org/wiki/Wikipedia:Fundraising_statistics\"\n",
        "\n",
        "tables = pd.read_html(url)\n",
        "tables[0].head()"
      ]
    },
    {
      "cell_type": "code",
      "source": [
        "fundraising = tables[0]"
      ],
      "metadata": {
        "id": "FcMm6ocp3drJ"
      },
      "id": "FcMm6ocp3drJ",
      "execution_count": null,
      "outputs": []
    },
    {
      "cell_type": "markdown",
      "id": "3bec949d",
      "metadata": {
        "id": "3bec949d"
      },
      "source": [
        "## Step 2: Prepare\n",
        "- Explore data\n",
        "- Visualize ideas\n",
        "- Cleaning data"
      ]
    },
    {
      "cell_type": "markdown",
      "id": "6a5d948d",
      "metadata": {
        "id": "6a5d948d"
      },
      "source": [
        "### Step 2.a: Check the data types\n",
        "- This step tells you if some numeric column is not represented numeric.\n",
        "- Get the data types by ```.dtypes```"
      ]
    },
    {
      "cell_type": "code",
      "execution_count": null,
      "id": "34cb3d41",
      "metadata": {
        "colab": {
          "base_uri": "https://localhost:8080/"
        },
        "id": "34cb3d41",
        "outputId": "5aa6144f-8adc-4dfa-c66d-60bd771dbd88"
      },
      "outputs": [
        {
          "output_type": "execute_result",
          "data": {
            "text/plain": [
              "Year            object\n",
              "Source          object\n",
              "Revenue         object\n",
              "Expenses        object\n",
              "Asset rise      object\n",
              "Total assets    object\n",
              "dtype: object"
            ]
          },
          "metadata": {},
          "execution_count": 4
        }
      ],
      "source": [
        "fundraising.dtypes"
      ]
    },
    {
      "cell_type": "markdown",
      "id": "2867789a",
      "metadata": {
        "id": "2867789a"
      },
      "source": [
        "### Step 2.b: Check for null (missing) values\n",
        "- Data often is missing entries - there can be many reasons for this\n",
        "- We need to deal with that (will do later in course)\n",
        "- Use ```.isna().any()```"
      ]
    },
    {
      "cell_type": "code",
      "execution_count": null,
      "id": "512207e8",
      "metadata": {
        "colab": {
          "base_uri": "https://localhost:8080/"
        },
        "id": "512207e8",
        "outputId": "83ebc059-4be7-4f52-cc7f-305ec5e7a59c"
      },
      "outputs": [
        {
          "output_type": "execute_result",
          "data": {
            "text/plain": [
              "Year            False\n",
              "Source          False\n",
              "Revenue         False\n",
              "Expenses        False\n",
              "Asset rise      False\n",
              "Total assets    False\n",
              "dtype: bool"
            ]
          },
          "metadata": {},
          "execution_count": 5
        }
      ],
      "source": [
        "fundraising.isna().any()"
      ]
    },
    {
      "cell_type": "markdown",
      "id": "137fdfde",
      "metadata": {
        "id": "137fdfde"
      },
      "source": [
        "### Step 2.c: Delete Source Column\n",
        "- The Column Source adds no value for further investigations\n",
        "- You can delete it by \n",
        "    - ```del data['Source']```"
      ]
    },
    {
      "cell_type": "code",
      "execution_count": null,
      "id": "639ac2bb",
      "metadata": {
        "id": "639ac2bb"
      },
      "outputs": [],
      "source": [
        "del fundraising['Source']"
      ]
    },
    {
      "cell_type": "code",
      "execution_count": null,
      "id": "7fa9b8d4",
      "metadata": {
        "colab": {
          "base_uri": "https://localhost:8080/",
          "height": 206
        },
        "id": "7fa9b8d4",
        "outputId": "63d321a7-5106-4f06-f10e-a7500f3c9f26"
      },
      "outputs": [
        {
          "output_type": "execute_result",
          "data": {
            "text/plain": [
              "      Year        Revenue       Expenses    Asset rise   Total assets\n",
              "0  2021/22  $ 154,686,521  $ 145,970,915   $ 8,173,996  $ 239,351,532\n",
              "1  2020/21  $ 162,886,686  $ 111,839,819  $ 50,861,811  $ 231,177,536\n",
              "2  2019/20  $ 129,234,327  $ 112,489,397  $ 14,674,300  $ 180,315,725\n",
              "3  2018/19  $ 120,067,266   $ 91,414,010  $ 30,691,855  $ 165,641,425\n",
              "4  2017/18  $ 104,505,783   $ 81,442,265  $ 21,619,373  $ 134,949,570"
            ],
            "text/html": [
              "\n",
              "  <div id=\"df-8d408426-5c9f-4aa1-8d2b-341c0b7678e3\">\n",
              "    <div class=\"colab-df-container\">\n",
              "      <div>\n",
              "<style scoped>\n",
              "    .dataframe tbody tr th:only-of-type {\n",
              "        vertical-align: middle;\n",
              "    }\n",
              "\n",
              "    .dataframe tbody tr th {\n",
              "        vertical-align: top;\n",
              "    }\n",
              "\n",
              "    .dataframe thead th {\n",
              "        text-align: right;\n",
              "    }\n",
              "</style>\n",
              "<table border=\"1\" class=\"dataframe\">\n",
              "  <thead>\n",
              "    <tr style=\"text-align: right;\">\n",
              "      <th></th>\n",
              "      <th>Year</th>\n",
              "      <th>Revenue</th>\n",
              "      <th>Expenses</th>\n",
              "      <th>Asset rise</th>\n",
              "      <th>Total assets</th>\n",
              "    </tr>\n",
              "  </thead>\n",
              "  <tbody>\n",
              "    <tr>\n",
              "      <th>0</th>\n",
              "      <td>2021/22</td>\n",
              "      <td>$ 154,686,521</td>\n",
              "      <td>$ 145,970,915</td>\n",
              "      <td>$ 8,173,996</td>\n",
              "      <td>$ 239,351,532</td>\n",
              "    </tr>\n",
              "    <tr>\n",
              "      <th>1</th>\n",
              "      <td>2020/21</td>\n",
              "      <td>$ 162,886,686</td>\n",
              "      <td>$ 111,839,819</td>\n",
              "      <td>$ 50,861,811</td>\n",
              "      <td>$ 231,177,536</td>\n",
              "    </tr>\n",
              "    <tr>\n",
              "      <th>2</th>\n",
              "      <td>2019/20</td>\n",
              "      <td>$ 129,234,327</td>\n",
              "      <td>$ 112,489,397</td>\n",
              "      <td>$ 14,674,300</td>\n",
              "      <td>$ 180,315,725</td>\n",
              "    </tr>\n",
              "    <tr>\n",
              "      <th>3</th>\n",
              "      <td>2018/19</td>\n",
              "      <td>$ 120,067,266</td>\n",
              "      <td>$ 91,414,010</td>\n",
              "      <td>$ 30,691,855</td>\n",
              "      <td>$ 165,641,425</td>\n",
              "    </tr>\n",
              "    <tr>\n",
              "      <th>4</th>\n",
              "      <td>2017/18</td>\n",
              "      <td>$ 104,505,783</td>\n",
              "      <td>$ 81,442,265</td>\n",
              "      <td>$ 21,619,373</td>\n",
              "      <td>$ 134,949,570</td>\n",
              "    </tr>\n",
              "  </tbody>\n",
              "</table>\n",
              "</div>\n",
              "      <button class=\"colab-df-convert\" onclick=\"convertToInteractive('df-8d408426-5c9f-4aa1-8d2b-341c0b7678e3')\"\n",
              "              title=\"Convert this dataframe to an interactive table.\"\n",
              "              style=\"display:none;\">\n",
              "        \n",
              "  <svg xmlns=\"http://www.w3.org/2000/svg\" height=\"24px\"viewBox=\"0 0 24 24\"\n",
              "       width=\"24px\">\n",
              "    <path d=\"M0 0h24v24H0V0z\" fill=\"none\"/>\n",
              "    <path d=\"M18.56 5.44l.94 2.06.94-2.06 2.06-.94-2.06-.94-.94-2.06-.94 2.06-2.06.94zm-11 1L8.5 8.5l.94-2.06 2.06-.94-2.06-.94L8.5 2.5l-.94 2.06-2.06.94zm10 10l.94 2.06.94-2.06 2.06-.94-2.06-.94-.94-2.06-.94 2.06-2.06.94z\"/><path d=\"M17.41 7.96l-1.37-1.37c-.4-.4-.92-.59-1.43-.59-.52 0-1.04.2-1.43.59L10.3 9.45l-7.72 7.72c-.78.78-.78 2.05 0 2.83L4 21.41c.39.39.9.59 1.41.59.51 0 1.02-.2 1.41-.59l7.78-7.78 2.81-2.81c.8-.78.8-2.07 0-2.86zM5.41 20L4 18.59l7.72-7.72 1.47 1.35L5.41 20z\"/>\n",
              "  </svg>\n",
              "      </button>\n",
              "      \n",
              "  <style>\n",
              "    .colab-df-container {\n",
              "      display:flex;\n",
              "      flex-wrap:wrap;\n",
              "      gap: 12px;\n",
              "    }\n",
              "\n",
              "    .colab-df-convert {\n",
              "      background-color: #E8F0FE;\n",
              "      border: none;\n",
              "      border-radius: 50%;\n",
              "      cursor: pointer;\n",
              "      display: none;\n",
              "      fill: #1967D2;\n",
              "      height: 32px;\n",
              "      padding: 0 0 0 0;\n",
              "      width: 32px;\n",
              "    }\n",
              "\n",
              "    .colab-df-convert:hover {\n",
              "      background-color: #E2EBFA;\n",
              "      box-shadow: 0px 1px 2px rgba(60, 64, 67, 0.3), 0px 1px 3px 1px rgba(60, 64, 67, 0.15);\n",
              "      fill: #174EA6;\n",
              "    }\n",
              "\n",
              "    [theme=dark] .colab-df-convert {\n",
              "      background-color: #3B4455;\n",
              "      fill: #D2E3FC;\n",
              "    }\n",
              "\n",
              "    [theme=dark] .colab-df-convert:hover {\n",
              "      background-color: #434B5C;\n",
              "      box-shadow: 0px 1px 3px 1px rgba(0, 0, 0, 0.15);\n",
              "      filter: drop-shadow(0px 1px 2px rgba(0, 0, 0, 0.3));\n",
              "      fill: #FFFFFF;\n",
              "    }\n",
              "  </style>\n",
              "\n",
              "      <script>\n",
              "        const buttonEl =\n",
              "          document.querySelector('#df-8d408426-5c9f-4aa1-8d2b-341c0b7678e3 button.colab-df-convert');\n",
              "        buttonEl.style.display =\n",
              "          google.colab.kernel.accessAllowed ? 'block' : 'none';\n",
              "\n",
              "        async function convertToInteractive(key) {\n",
              "          const element = document.querySelector('#df-8d408426-5c9f-4aa1-8d2b-341c0b7678e3');\n",
              "          const dataTable =\n",
              "            await google.colab.kernel.invokeFunction('convertToInteractive',\n",
              "                                                     [key], {});\n",
              "          if (!dataTable) return;\n",
              "\n",
              "          const docLinkHtml = 'Like what you see? Visit the ' +\n",
              "            '<a target=\"_blank\" href=https://colab.research.google.com/notebooks/data_table.ipynb>data table notebook</a>'\n",
              "            + ' to learn more about interactive tables.';\n",
              "          element.innerHTML = '';\n",
              "          dataTable['output_type'] = 'display_data';\n",
              "          await google.colab.output.renderOutput(dataTable, element);\n",
              "          const docLink = document.createElement('div');\n",
              "          docLink.innerHTML = docLinkHtml;\n",
              "          element.appendChild(docLink);\n",
              "        }\n",
              "      </script>\n",
              "    </div>\n",
              "  </div>\n",
              "  "
            ]
          },
          "metadata": {},
          "execution_count": 7
        }
      ],
      "source": [
        "fundraising.head()"
      ]
    },
    {
      "cell_type": "markdown",
      "id": "846a1523",
      "metadata": {
        "id": "846a1523"
      },
      "source": [
        "### Step 2.d: Convert Year column to numeric\n",
        "- All the strings in years are formatted: 'YYYY/YYYY'\n",
        "- To get the last year as string: ```data['Year'].str[-4:]```\n",
        "- To convert that to numeric use: ```pd.to_numeric(...)```\n",
        "    - HINT: You can assign the column directly"
      ]
    },
    {
      "cell_type": "code",
      "execution_count": null,
      "id": "a84958ea",
      "metadata": {
        "colab": {
          "base_uri": "https://localhost:8080/"
        },
        "id": "a84958ea",
        "outputId": "3439b402-bcb5-4b60-b701-0bab8a7f0b06"
      },
      "outputs": [
        {
          "output_type": "execute_result",
          "data": {
            "text/plain": [
              "0     1/22\n",
              "1     0/21\n",
              "2     9/20\n",
              "3     8/19\n",
              "4     7/18\n",
              "5     6/17\n",
              "6     5/16\n",
              "7     4/15\n",
              "8     3/14\n",
              "9     2/13\n",
              "10    1/12\n",
              "11    0/11\n",
              "12    9/10\n",
              "13    8/09\n",
              "14    7/08\n",
              "15    6/07\n",
              "16    5/06\n",
              "17    4/05\n",
              "18    3/04\n",
              "Name: Year, dtype: object"
            ]
          },
          "metadata": {},
          "execution_count": 8
        }
      ],
      "source": [
        "fundraising['Year'] = fundraising['Year'].str[-4:]\n",
        "fundraising['Year']"
      ]
    },
    {
      "cell_type": "markdown",
      "id": "6cd81826",
      "metadata": {
        "id": "6cd81826"
      },
      "source": [
        "### Step 2.e: Set Year to index\n",
        "- To change a column to be the index use: ```data.set_index('Year', inplace=True)```\n",
        "- Also sort the index in correct order: ```data.sort_index(inplace=True)```"
      ]
    },
    {
      "cell_type": "code",
      "execution_count": null,
      "id": "4b9d3578",
      "metadata": {
        "id": "4b9d3578"
      },
      "outputs": [],
      "source": [
        "fundraising.set_index('Year', inplace = True)"
      ]
    },
    {
      "cell_type": "code",
      "execution_count": null,
      "id": "88644f1e",
      "metadata": {
        "id": "88644f1e"
      },
      "outputs": [],
      "source": [
        "fundraising.sort_index(inplace = True)"
      ]
    },
    {
      "cell_type": "code",
      "execution_count": null,
      "id": "23f7789e",
      "metadata": {
        "colab": {
          "base_uri": "https://localhost:8080/",
          "height": 677
        },
        "id": "23f7789e",
        "outputId": "67031bb2-ab35-4930-fdf7-d6c320944b31"
      },
      "outputs": [
        {
          "output_type": "execute_result",
          "data": {
            "text/plain": [
              "            Revenue       Expenses    Asset rise   Total assets\n",
              "Year                                                           \n",
              "0/11   $ 24,785,092   $ 17,889,794   $ 9,649,413   $ 24,192,144\n",
              "0/21  $ 162,886,686  $ 111,839,819  $ 50,861,811  $ 231,177,536\n",
              "1/12   $ 38,479,665   $ 29,260,652  $ 10,736,914   $ 34,929,058\n",
              "1/22  $ 154,686,521  $ 145,970,915   $ 8,173,996  $ 239,351,532\n",
              "2/13   $ 48,635,408   $ 35,704,796  $ 10,260,066   $ 45,189,124\n",
              "3/04       $ 80,129       $ 23,463      $ 56,666       $ 56,666\n",
              "3/14   $ 52,465,287   $ 45,900,745   $ 8,285,897   $ 53,475,021\n",
              "4/05      $ 379,088      $ 177,670     $ 211,418      $ 268,084\n",
              "4/15   $ 75,797,223   $ 52,596,782  $ 24,345,277   $ 77,820,298\n",
              "5/06    $ 1,508,039      $ 791,907     $ 736,132    $ 1,004,216\n",
              "5/16   $ 81,862,724   $ 65,947,465  $ 13,962,497   $ 91,782,795\n",
              "6/07    $ 2,734,909    $ 2,077,843     $ 654,066    $ 1,658,282\n",
              "6/17   $ 91,242,418   $ 69,136,758  $ 21,547,402  $ 113,330,197\n",
              "7/08    $ 5,032,981    $ 3,540,724   $ 3,519,886    $ 5,178,168\n",
              "7/18  $ 104,505,783   $ 81,442,265  $ 21,619,373  $ 134,949,570\n",
              "8/09    $ 8,658,006    $ 5,617,236   $ 3,053,599    $ 8,231,767\n",
              "8/19  $ 120,067,266   $ 91,414,010  $ 30,691,855  $ 165,641,425\n",
              "9/10   $ 17,979,312   $ 10,266,793   $ 6,310,964   $ 14,542,731\n",
              "9/20  $ 129,234,327  $ 112,489,397  $ 14,674,300  $ 180,315,725"
            ],
            "text/html": [
              "\n",
              "  <div id=\"df-946c4de0-a4fa-4a9b-98bc-ab5aae77e00b\">\n",
              "    <div class=\"colab-df-container\">\n",
              "      <div>\n",
              "<style scoped>\n",
              "    .dataframe tbody tr th:only-of-type {\n",
              "        vertical-align: middle;\n",
              "    }\n",
              "\n",
              "    .dataframe tbody tr th {\n",
              "        vertical-align: top;\n",
              "    }\n",
              "\n",
              "    .dataframe thead th {\n",
              "        text-align: right;\n",
              "    }\n",
              "</style>\n",
              "<table border=\"1\" class=\"dataframe\">\n",
              "  <thead>\n",
              "    <tr style=\"text-align: right;\">\n",
              "      <th></th>\n",
              "      <th>Revenue</th>\n",
              "      <th>Expenses</th>\n",
              "      <th>Asset rise</th>\n",
              "      <th>Total assets</th>\n",
              "    </tr>\n",
              "    <tr>\n",
              "      <th>Year</th>\n",
              "      <th></th>\n",
              "      <th></th>\n",
              "      <th></th>\n",
              "      <th></th>\n",
              "    </tr>\n",
              "  </thead>\n",
              "  <tbody>\n",
              "    <tr>\n",
              "      <th>0/11</th>\n",
              "      <td>$ 24,785,092</td>\n",
              "      <td>$ 17,889,794</td>\n",
              "      <td>$ 9,649,413</td>\n",
              "      <td>$ 24,192,144</td>\n",
              "    </tr>\n",
              "    <tr>\n",
              "      <th>0/21</th>\n",
              "      <td>$ 162,886,686</td>\n",
              "      <td>$ 111,839,819</td>\n",
              "      <td>$ 50,861,811</td>\n",
              "      <td>$ 231,177,536</td>\n",
              "    </tr>\n",
              "    <tr>\n",
              "      <th>1/12</th>\n",
              "      <td>$ 38,479,665</td>\n",
              "      <td>$ 29,260,652</td>\n",
              "      <td>$ 10,736,914</td>\n",
              "      <td>$ 34,929,058</td>\n",
              "    </tr>\n",
              "    <tr>\n",
              "      <th>1/22</th>\n",
              "      <td>$ 154,686,521</td>\n",
              "      <td>$ 145,970,915</td>\n",
              "      <td>$ 8,173,996</td>\n",
              "      <td>$ 239,351,532</td>\n",
              "    </tr>\n",
              "    <tr>\n",
              "      <th>2/13</th>\n",
              "      <td>$ 48,635,408</td>\n",
              "      <td>$ 35,704,796</td>\n",
              "      <td>$ 10,260,066</td>\n",
              "      <td>$ 45,189,124</td>\n",
              "    </tr>\n",
              "    <tr>\n",
              "      <th>3/04</th>\n",
              "      <td>$ 80,129</td>\n",
              "      <td>$ 23,463</td>\n",
              "      <td>$ 56,666</td>\n",
              "      <td>$ 56,666</td>\n",
              "    </tr>\n",
              "    <tr>\n",
              "      <th>3/14</th>\n",
              "      <td>$ 52,465,287</td>\n",
              "      <td>$ 45,900,745</td>\n",
              "      <td>$ 8,285,897</td>\n",
              "      <td>$ 53,475,021</td>\n",
              "    </tr>\n",
              "    <tr>\n",
              "      <th>4/05</th>\n",
              "      <td>$ 379,088</td>\n",
              "      <td>$ 177,670</td>\n",
              "      <td>$ 211,418</td>\n",
              "      <td>$ 268,084</td>\n",
              "    </tr>\n",
              "    <tr>\n",
              "      <th>4/15</th>\n",
              "      <td>$ 75,797,223</td>\n",
              "      <td>$ 52,596,782</td>\n",
              "      <td>$ 24,345,277</td>\n",
              "      <td>$ 77,820,298</td>\n",
              "    </tr>\n",
              "    <tr>\n",
              "      <th>5/06</th>\n",
              "      <td>$ 1,508,039</td>\n",
              "      <td>$ 791,907</td>\n",
              "      <td>$ 736,132</td>\n",
              "      <td>$ 1,004,216</td>\n",
              "    </tr>\n",
              "    <tr>\n",
              "      <th>5/16</th>\n",
              "      <td>$ 81,862,724</td>\n",
              "      <td>$ 65,947,465</td>\n",
              "      <td>$ 13,962,497</td>\n",
              "      <td>$ 91,782,795</td>\n",
              "    </tr>\n",
              "    <tr>\n",
              "      <th>6/07</th>\n",
              "      <td>$ 2,734,909</td>\n",
              "      <td>$ 2,077,843</td>\n",
              "      <td>$ 654,066</td>\n",
              "      <td>$ 1,658,282</td>\n",
              "    </tr>\n",
              "    <tr>\n",
              "      <th>6/17</th>\n",
              "      <td>$ 91,242,418</td>\n",
              "      <td>$ 69,136,758</td>\n",
              "      <td>$ 21,547,402</td>\n",
              "      <td>$ 113,330,197</td>\n",
              "    </tr>\n",
              "    <tr>\n",
              "      <th>7/08</th>\n",
              "      <td>$ 5,032,981</td>\n",
              "      <td>$ 3,540,724</td>\n",
              "      <td>$ 3,519,886</td>\n",
              "      <td>$ 5,178,168</td>\n",
              "    </tr>\n",
              "    <tr>\n",
              "      <th>7/18</th>\n",
              "      <td>$ 104,505,783</td>\n",
              "      <td>$ 81,442,265</td>\n",
              "      <td>$ 21,619,373</td>\n",
              "      <td>$ 134,949,570</td>\n",
              "    </tr>\n",
              "    <tr>\n",
              "      <th>8/09</th>\n",
              "      <td>$ 8,658,006</td>\n",
              "      <td>$ 5,617,236</td>\n",
              "      <td>$ 3,053,599</td>\n",
              "      <td>$ 8,231,767</td>\n",
              "    </tr>\n",
              "    <tr>\n",
              "      <th>8/19</th>\n",
              "      <td>$ 120,067,266</td>\n",
              "      <td>$ 91,414,010</td>\n",
              "      <td>$ 30,691,855</td>\n",
              "      <td>$ 165,641,425</td>\n",
              "    </tr>\n",
              "    <tr>\n",
              "      <th>9/10</th>\n",
              "      <td>$ 17,979,312</td>\n",
              "      <td>$ 10,266,793</td>\n",
              "      <td>$ 6,310,964</td>\n",
              "      <td>$ 14,542,731</td>\n",
              "    </tr>\n",
              "    <tr>\n",
              "      <th>9/20</th>\n",
              "      <td>$ 129,234,327</td>\n",
              "      <td>$ 112,489,397</td>\n",
              "      <td>$ 14,674,300</td>\n",
              "      <td>$ 180,315,725</td>\n",
              "    </tr>\n",
              "  </tbody>\n",
              "</table>\n",
              "</div>\n",
              "      <button class=\"colab-df-convert\" onclick=\"convertToInteractive('df-946c4de0-a4fa-4a9b-98bc-ab5aae77e00b')\"\n",
              "              title=\"Convert this dataframe to an interactive table.\"\n",
              "              style=\"display:none;\">\n",
              "        \n",
              "  <svg xmlns=\"http://www.w3.org/2000/svg\" height=\"24px\"viewBox=\"0 0 24 24\"\n",
              "       width=\"24px\">\n",
              "    <path d=\"M0 0h24v24H0V0z\" fill=\"none\"/>\n",
              "    <path d=\"M18.56 5.44l.94 2.06.94-2.06 2.06-.94-2.06-.94-.94-2.06-.94 2.06-2.06.94zm-11 1L8.5 8.5l.94-2.06 2.06-.94-2.06-.94L8.5 2.5l-.94 2.06-2.06.94zm10 10l.94 2.06.94-2.06 2.06-.94-2.06-.94-.94-2.06-.94 2.06-2.06.94z\"/><path d=\"M17.41 7.96l-1.37-1.37c-.4-.4-.92-.59-1.43-.59-.52 0-1.04.2-1.43.59L10.3 9.45l-7.72 7.72c-.78.78-.78 2.05 0 2.83L4 21.41c.39.39.9.59 1.41.59.51 0 1.02-.2 1.41-.59l7.78-7.78 2.81-2.81c.8-.78.8-2.07 0-2.86zM5.41 20L4 18.59l7.72-7.72 1.47 1.35L5.41 20z\"/>\n",
              "  </svg>\n",
              "      </button>\n",
              "      \n",
              "  <style>\n",
              "    .colab-df-container {\n",
              "      display:flex;\n",
              "      flex-wrap:wrap;\n",
              "      gap: 12px;\n",
              "    }\n",
              "\n",
              "    .colab-df-convert {\n",
              "      background-color: #E8F0FE;\n",
              "      border: none;\n",
              "      border-radius: 50%;\n",
              "      cursor: pointer;\n",
              "      display: none;\n",
              "      fill: #1967D2;\n",
              "      height: 32px;\n",
              "      padding: 0 0 0 0;\n",
              "      width: 32px;\n",
              "    }\n",
              "\n",
              "    .colab-df-convert:hover {\n",
              "      background-color: #E2EBFA;\n",
              "      box-shadow: 0px 1px 2px rgba(60, 64, 67, 0.3), 0px 1px 3px 1px rgba(60, 64, 67, 0.15);\n",
              "      fill: #174EA6;\n",
              "    }\n",
              "\n",
              "    [theme=dark] .colab-df-convert {\n",
              "      background-color: #3B4455;\n",
              "      fill: #D2E3FC;\n",
              "    }\n",
              "\n",
              "    [theme=dark] .colab-df-convert:hover {\n",
              "      background-color: #434B5C;\n",
              "      box-shadow: 0px 1px 3px 1px rgba(0, 0, 0, 0.15);\n",
              "      filter: drop-shadow(0px 1px 2px rgba(0, 0, 0, 0.3));\n",
              "      fill: #FFFFFF;\n",
              "    }\n",
              "  </style>\n",
              "\n",
              "      <script>\n",
              "        const buttonEl =\n",
              "          document.querySelector('#df-946c4de0-a4fa-4a9b-98bc-ab5aae77e00b button.colab-df-convert');\n",
              "        buttonEl.style.display =\n",
              "          google.colab.kernel.accessAllowed ? 'block' : 'none';\n",
              "\n",
              "        async function convertToInteractive(key) {\n",
              "          const element = document.querySelector('#df-946c4de0-a4fa-4a9b-98bc-ab5aae77e00b');\n",
              "          const dataTable =\n",
              "            await google.colab.kernel.invokeFunction('convertToInteractive',\n",
              "                                                     [key], {});\n",
              "          if (!dataTable) return;\n",
              "\n",
              "          const docLinkHtml = 'Like what you see? Visit the ' +\n",
              "            '<a target=\"_blank\" href=https://colab.research.google.com/notebooks/data_table.ipynb>data table notebook</a>'\n",
              "            + ' to learn more about interactive tables.';\n",
              "          element.innerHTML = '';\n",
              "          dataTable['output_type'] = 'display_data';\n",
              "          await google.colab.output.renderOutput(dataTable, element);\n",
              "          const docLink = document.createElement('div');\n",
              "          docLink.innerHTML = docLinkHtml;\n",
              "          element.appendChild(docLink);\n",
              "        }\n",
              "      </script>\n",
              "    </div>\n",
              "  </div>\n",
              "  "
            ]
          },
          "metadata": {},
          "execution_count": 11
        }
      ],
      "source": [
        "fundraising"
      ]
    },
    {
      "cell_type": "markdown",
      "id": "0087a9d0",
      "metadata": {
        "id": "0087a9d0"
      },
      "source": [
        "### Step 2.f: Convert the remaining columns to numeric\n",
        "- Remember the steps from the lesson\n",
        "    - ```.str[2:]``` to remove the first two characters ('\\$ ')\n",
        "    - ```.str.replace(',', '')``` to remove commas\n",
        "    - ```pd.to_numeric(...)``` converts string (containing well-formed number) to the numeric value\n",
        "- Try to do it directly column by column"
      ]
    },
    {
      "cell_type": "code",
      "execution_count": null,
      "id": "c1a42ebd",
      "metadata": {
        "colab": {
          "base_uri": "https://localhost:8080/",
          "height": 238
        },
        "id": "c1a42ebd",
        "outputId": "a7bd89a6-0640-48c0-c274-8f2971464dfe"
      },
      "outputs": [
        {
          "output_type": "execute_result",
          "data": {
            "text/plain": [
              "        Revenue   Expenses Asset rise Total assets\n",
              "Year                                              \n",
              "0/11   24785092   17889794    9649413     24192144\n",
              "0/21  162886686  111839819   50861811    231177536\n",
              "1/12   38479665   29260652   10736914     34929058\n",
              "1/22  154686521  145970915    8173996    239351532\n",
              "2/13   48635408   35704796   10260066     45189124"
            ],
            "text/html": [
              "\n",
              "  <div id=\"df-e0b7ee05-2659-403d-b504-e2b7d0840fe4\">\n",
              "    <div class=\"colab-df-container\">\n",
              "      <div>\n",
              "<style scoped>\n",
              "    .dataframe tbody tr th:only-of-type {\n",
              "        vertical-align: middle;\n",
              "    }\n",
              "\n",
              "    .dataframe tbody tr th {\n",
              "        vertical-align: top;\n",
              "    }\n",
              "\n",
              "    .dataframe thead th {\n",
              "        text-align: right;\n",
              "    }\n",
              "</style>\n",
              "<table border=\"1\" class=\"dataframe\">\n",
              "  <thead>\n",
              "    <tr style=\"text-align: right;\">\n",
              "      <th></th>\n",
              "      <th>Revenue</th>\n",
              "      <th>Expenses</th>\n",
              "      <th>Asset rise</th>\n",
              "      <th>Total assets</th>\n",
              "    </tr>\n",
              "    <tr>\n",
              "      <th>Year</th>\n",
              "      <th></th>\n",
              "      <th></th>\n",
              "      <th></th>\n",
              "      <th></th>\n",
              "    </tr>\n",
              "  </thead>\n",
              "  <tbody>\n",
              "    <tr>\n",
              "      <th>0/11</th>\n",
              "      <td>24785092</td>\n",
              "      <td>17889794</td>\n",
              "      <td>9649413</td>\n",
              "      <td>24192144</td>\n",
              "    </tr>\n",
              "    <tr>\n",
              "      <th>0/21</th>\n",
              "      <td>162886686</td>\n",
              "      <td>111839819</td>\n",
              "      <td>50861811</td>\n",
              "      <td>231177536</td>\n",
              "    </tr>\n",
              "    <tr>\n",
              "      <th>1/12</th>\n",
              "      <td>38479665</td>\n",
              "      <td>29260652</td>\n",
              "      <td>10736914</td>\n",
              "      <td>34929058</td>\n",
              "    </tr>\n",
              "    <tr>\n",
              "      <th>1/22</th>\n",
              "      <td>154686521</td>\n",
              "      <td>145970915</td>\n",
              "      <td>8173996</td>\n",
              "      <td>239351532</td>\n",
              "    </tr>\n",
              "    <tr>\n",
              "      <th>2/13</th>\n",
              "      <td>48635408</td>\n",
              "      <td>35704796</td>\n",
              "      <td>10260066</td>\n",
              "      <td>45189124</td>\n",
              "    </tr>\n",
              "  </tbody>\n",
              "</table>\n",
              "</div>\n",
              "      <button class=\"colab-df-convert\" onclick=\"convertToInteractive('df-e0b7ee05-2659-403d-b504-e2b7d0840fe4')\"\n",
              "              title=\"Convert this dataframe to an interactive table.\"\n",
              "              style=\"display:none;\">\n",
              "        \n",
              "  <svg xmlns=\"http://www.w3.org/2000/svg\" height=\"24px\"viewBox=\"0 0 24 24\"\n",
              "       width=\"24px\">\n",
              "    <path d=\"M0 0h24v24H0V0z\" fill=\"none\"/>\n",
              "    <path d=\"M18.56 5.44l.94 2.06.94-2.06 2.06-.94-2.06-.94-.94-2.06-.94 2.06-2.06.94zm-11 1L8.5 8.5l.94-2.06 2.06-.94-2.06-.94L8.5 2.5l-.94 2.06-2.06.94zm10 10l.94 2.06.94-2.06 2.06-.94-2.06-.94-.94-2.06-.94 2.06-2.06.94z\"/><path d=\"M17.41 7.96l-1.37-1.37c-.4-.4-.92-.59-1.43-.59-.52 0-1.04.2-1.43.59L10.3 9.45l-7.72 7.72c-.78.78-.78 2.05 0 2.83L4 21.41c.39.39.9.59 1.41.59.51 0 1.02-.2 1.41-.59l7.78-7.78 2.81-2.81c.8-.78.8-2.07 0-2.86zM5.41 20L4 18.59l7.72-7.72 1.47 1.35L5.41 20z\"/>\n",
              "  </svg>\n",
              "      </button>\n",
              "      \n",
              "  <style>\n",
              "    .colab-df-container {\n",
              "      display:flex;\n",
              "      flex-wrap:wrap;\n",
              "      gap: 12px;\n",
              "    }\n",
              "\n",
              "    .colab-df-convert {\n",
              "      background-color: #E8F0FE;\n",
              "      border: none;\n",
              "      border-radius: 50%;\n",
              "      cursor: pointer;\n",
              "      display: none;\n",
              "      fill: #1967D2;\n",
              "      height: 32px;\n",
              "      padding: 0 0 0 0;\n",
              "      width: 32px;\n",
              "    }\n",
              "\n",
              "    .colab-df-convert:hover {\n",
              "      background-color: #E2EBFA;\n",
              "      box-shadow: 0px 1px 2px rgba(60, 64, 67, 0.3), 0px 1px 3px 1px rgba(60, 64, 67, 0.15);\n",
              "      fill: #174EA6;\n",
              "    }\n",
              "\n",
              "    [theme=dark] .colab-df-convert {\n",
              "      background-color: #3B4455;\n",
              "      fill: #D2E3FC;\n",
              "    }\n",
              "\n",
              "    [theme=dark] .colab-df-convert:hover {\n",
              "      background-color: #434B5C;\n",
              "      box-shadow: 0px 1px 3px 1px rgba(0, 0, 0, 0.15);\n",
              "      filter: drop-shadow(0px 1px 2px rgba(0, 0, 0, 0.3));\n",
              "      fill: #FFFFFF;\n",
              "    }\n",
              "  </style>\n",
              "\n",
              "      <script>\n",
              "        const buttonEl =\n",
              "          document.querySelector('#df-e0b7ee05-2659-403d-b504-e2b7d0840fe4 button.colab-df-convert');\n",
              "        buttonEl.style.display =\n",
              "          google.colab.kernel.accessAllowed ? 'block' : 'none';\n",
              "\n",
              "        async function convertToInteractive(key) {\n",
              "          const element = document.querySelector('#df-e0b7ee05-2659-403d-b504-e2b7d0840fe4');\n",
              "          const dataTable =\n",
              "            await google.colab.kernel.invokeFunction('convertToInteractive',\n",
              "                                                     [key], {});\n",
              "          if (!dataTable) return;\n",
              "\n",
              "          const docLinkHtml = 'Like what you see? Visit the ' +\n",
              "            '<a target=\"_blank\" href=https://colab.research.google.com/notebooks/data_table.ipynb>data table notebook</a>'\n",
              "            + ' to learn more about interactive tables.';\n",
              "          element.innerHTML = '';\n",
              "          dataTable['output_type'] = 'display_data';\n",
              "          await google.colab.output.renderOutput(dataTable, element);\n",
              "          const docLink = document.createElement('div');\n",
              "          docLink.innerHTML = docLinkHtml;\n",
              "          element.appendChild(docLink);\n",
              "        }\n",
              "      </script>\n",
              "    </div>\n",
              "  </div>\n",
              "  "
            ]
          },
          "metadata": {},
          "execution_count": 12
        }
      ],
      "source": [
        "fundraising['Revenue'] = fundraising['Revenue'].str[2:].str.replace(',','')\n",
        "fundraising['Expenses'] = fundraising['Expenses'].str[2:].str.replace(',','')\n",
        "fundraising['Asset rise'] = fundraising['Asset rise'].str[2:].str.replace(',','')\n",
        "fundraising['Total assets'] = fundraising['Total assets'].str[2:].str.replace(',','')\n",
        "fundraising.head()"
      ]
    },
    {
      "cell_type": "code",
      "source": [
        "fundraising['Revenue'] = pd.to_numeric(fundraising['Revenue'])\n",
        "fundraising['Expenses'] = pd.to_numeric(fundraising['Expenses'])\n",
        "fundraising['Asset rise'] = pd.to_numeric(fundraising['Asset rise'])\n",
        "fundraising['Total assets'] = pd.to_numeric(fundraising['Total assets'])\n",
        "fundraising.dtypes"
      ],
      "metadata": {
        "colab": {
          "base_uri": "https://localhost:8080/"
        },
        "id": "sCCPGdM97U2k",
        "outputId": "5fd7ed20-e41e-4e1f-87cd-a765181102d5"
      },
      "id": "sCCPGdM97U2k",
      "execution_count": null,
      "outputs": [
        {
          "output_type": "execute_result",
          "data": {
            "text/plain": [
              "Revenue         int64\n",
              "Expenses        int64\n",
              "Asset rise      int64\n",
              "Total assets    int64\n",
              "dtype: object"
            ]
          },
          "metadata": {},
          "execution_count": 13
        }
      ]
    },
    {
      "cell_type": "markdown",
      "id": "bb468746",
      "metadata": {
        "id": "bb468746"
      },
      "source": [
        "### Step 2.g: Visualize data to investigate quality\n",
        "- Make a simple plot of **Revenue**, **Expenses** and **Total assets**\n",
        "- This will help you spot any outliers"
      ]
    },
    {
      "cell_type": "code",
      "execution_count": null,
      "id": "9919eb8c",
      "metadata": {
        "colab": {
          "base_uri": "https://localhost:8080/",
          "height": 290
        },
        "id": "9919eb8c",
        "outputId": "aaff60bd-badc-43de-e089-4d96af0b762d"
      },
      "outputs": [
        {
          "output_type": "display_data",
          "data": {
            "text/plain": [
              "<Figure size 432x288 with 1 Axes>"
            ],
            "image/png": "[encoded data removed]"
          },
          "metadata": {
            "needs_background": "light"
          }
        }
      ],
      "source": [
        "fundraising[['Revenue', 'Expenses', 'Total assets']].plot()\n",
        "plt.show()"
      ]
    },
    {
      "cell_type": "markdown",
      "id": "c347dbfd",
      "metadata": {
        "id": "c347dbfd"
      },
      "source": [
        "### Step 2.h: Visualize data to investigate quality\n",
        "- Make a simple plot of **Asset rise**\n",
        "- This will help you spot any outliers"
      ]
    },
    {
      "cell_type": "code",
      "execution_count": null,
      "id": "5b4074f2",
      "metadata": {
        "colab": {
          "base_uri": "https://localhost:8080/",
          "height": 290
        },
        "id": "5b4074f2",
        "outputId": "3af74957-1b48-4c6a-ce41-efe9898dc9b0"
      },
      "outputs": [
        {
          "output_type": "display_data",
          "data": {
            "text/plain": [
              "<Figure size 432x288 with 1 Axes>"
            ],
            "image/png": "[encoded data removed]"
          },
          "metadata": {
            "needs_background": "light"
          }
        }
      ],
      "source": [
        "fundraising['Asset rise'].plot()\n",
        "plt.show()"
      ]
    }
  ],
  "metadata": {
    "kernelspec": {
      "display_name": "Python 3 (ipykernel)",
      "language": "python",
      "name": "python3"
    },
    "language_info": {
      "codemirror_mode": {
        "name": "ipython",
        "version": 3
      },
      "file_extension": ".py",
      "mimetype": "text/x-python",
      "name": "python",
      "nbconvert_exporter": "python",
      "pygments_lexer": "ipython3",
      "version": "3.10.2"
    },
    "colab": {
      "provenance": [],
      "include_colab_link": true
    }
  },
  "nbformat": 4,
  "nbformat_minor": 5
}